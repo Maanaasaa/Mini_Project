{
 "cells": [
  {
   "cell_type": "code",
   "execution_count": 3,
   "id": "eea9c9f2-e05e-4bae-a96f-1446542e0eb8",
   "metadata": {},
   "outputs": [
    {
     "name": "stdout",
     "output_type": "stream",
     "text": [
      "MAE: 2531.712544775\n",
      "MSE: 21204696.67185502\n",
      "R² Score: 0.8634146864318911\n"
     ]
    }
   ],
   "source": [
    "import pandas as pd\n",
    "import numpy as np\n",
    "from sklearn.model_selection import train_test_split\n",
    "from sklearn.preprocessing import StandardScaler, OneHotEncoder\n",
    "from sklearn.compose import ColumnTransformer\n",
    "from sklearn.pipeline import Pipeline\n",
    "from sklearn.ensemble import RandomForestRegressor\n",
    "from sklearn.metrics import mean_absolute_error, mean_squared_error, r2_score\n",
    "\n",
    "# Load the dataset\n",
    "df = pd.read_csv('C:\\\\Users\\\\user\\\\Downloads\\\\archive\\\\insurance.csv')\n",
    "\n",
    "# Features and target\n",
    "X = df.drop('charges', axis=1)\n",
    "y = df['charges']\n",
    "\n",
    "# Define categorical and numerical features\n",
    "categorical_features = ['sex', 'smoker', 'region']\n",
    "numerical_features = ['age', 'bmi', 'children']\n",
    "\n",
    "# Create a ColumnTransformer for preprocessing\n",
    "preprocessor = ColumnTransformer(\n",
    "    transformers=[\n",
    "        ('num', StandardScaler(), numerical_features),\n",
    "        ('cat', OneHotEncoder(drop='first', sparse_output=False), categorical_features)\n",
    "    ])\n",
    "\n",
    "# Create a pipeline with preprocessing and RandomForestRegressor\n",
    "pipeline = Pipeline(steps=[\n",
    "    ('preprocessor', preprocessor),\n",
    "    ('model', RandomForestRegressor())\n",
    "])\n",
    "\n",
    "# Split the data into training and test sets\n",
    "X_train, X_test, y_train, y_test = train_test_split(X, y, test_size=0.2, random_state=42)\n",
    "\n",
    "# Train the model\n",
    "pipeline.fit(X_train, y_train)\n",
    "\n",
    "# Make predictions and evaluate the model\n",
    "y_pred = pipeline.predict(X_test)\n",
    "print(f\"MAE: {mean_absolute_error(y_test, y_pred)}\")\n",
    "print(f\"MSE: {mean_squared_error(y_test, y_pred)}\")\n",
    "print(f\"R² Score: {r2_score(y_test, y_pred)}\")\n"
   ]
  },
  {
   "cell_type": "code",
   "execution_count": 5,
   "id": "ce416e6a-30c5-4923-bb74-a596f7a114e2",
   "metadata": {},
   "outputs": [
    {
     "name": "stdout",
     "output_type": "stream",
     "text": [
      "Predicted Medical Cost: $23620.25\n"
     ]
    }
   ],
   "source": [
    "import pandas as pd\n",
    "\n",
    "# Define a single input\n",
    "input_data = pd.DataFrame({\n",
    "    'age': [35],\n",
    "    'sex': ['female'],\n",
    "    'bmi': [28.5],\n",
    "    'children': [2],\n",
    "    'smoker': ['yes'],\n",
    "    'region': ['northeast']\n",
    "})\n",
    "\n",
    "# Make a prediction\n",
    "predicted_cost = pipeline.predict(input_data)\n",
    "print(f\"Predicted Medical Cost: ${predicted_cost[0]:.2f}\")\n"
   ]
  },
  {
   "cell_type": "code",
   "execution_count": 7,
   "id": "725b2d1f-d65e-4452-81d3-dd0a71dd6431",
   "metadata": {},
   "outputs": [
    {
     "name": "stdout",
     "output_type": "stream",
     "text": [
      "Predicted Medical Cost for input 1: $18267.22\n",
      "Predicted Medical Cost for input 2: $3928.98\n",
      "Predicted Medical Cost for input 3: $12527.42\n"
     ]
    }
   ],
   "source": [
    "# Define multiple inputs\n",
    "input_data = pd.DataFrame({\n",
    "    'age': [40, 25, 50],\n",
    "    'sex': ['male', 'female', 'male'],\n",
    "    'bmi': [22.0, 30.1, 26.8],\n",
    "    'children': [1, 0, 3],\n",
    "    'smoker': ['yes', 'no', 'no'],\n",
    "    'region': ['southeast', 'northwest', 'southwest']\n",
    "})\n",
    "\n",
    "# Make predictions for multiple inputs\n",
    "predicted_costs = pipeline.predict(input_data)\n",
    "for idx, cost in enumerate(predicted_costs):\n",
    "    print(f\"Predicted Medical Cost for input {idx + 1}: ${cost:.2f}\")\n"
   ]
  },
  {
   "cell_type": "code",
   "execution_count": null,
   "id": "49bb8dc1-f3d1-43dc-af13-708c295da5c2",
   "metadata": {},
   "outputs": [],
   "source": []
  },
  {
   "cell_type": "code",
   "execution_count": null,
   "id": "7251cb97-50af-488c-8812-87cf71928e5b",
   "metadata": {},
   "outputs": [],
   "source": []
  }
 ],
 "metadata": {
  "kernelspec": {
   "display_name": "Python 3 (ipykernel)",
   "language": "python",
   "name": "python3"
  },
  "language_info": {
   "codemirror_mode": {
    "name": "ipython",
    "version": 3
   },
   "file_extension": ".py",
   "mimetype": "text/x-python",
   "name": "python",
   "nbconvert_exporter": "python",
   "pygments_lexer": "ipython3",
   "version": "3.12.4"
  }
 },
 "nbformat": 4,
 "nbformat_minor": 5
}
